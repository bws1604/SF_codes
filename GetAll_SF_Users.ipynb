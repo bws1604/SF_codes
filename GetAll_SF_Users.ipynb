{
 "cells": [
  {
   "cell_type": "code",
   "execution_count": 1,
   "id": "ce777c8b",
   "metadata": {},
   "outputs": [],
   "source": [
    "#!/usr/bin/env python3\n",
    "# -*- coding: utf-8 -*-\n",
    "\"\"\"\n",
    "Created on Fri Nov 12 11:59:40 2021\n",
    "\n",
    "@author: barbarawilsonsoto\n",
    "\"\"\"\n",
    "\n",
    "import json\n",
    "import pandas as pd\n",
    "from datetime import datetime\n",
    "\n",
    "from simple_salesforce import Salesforce, SalesforceLogin, SFType\n",
    "\n",
    "#specify the location where to save the output documents in a folder outside the Github folder\n",
    "path = '/Users/barbarawilsonsoto/GithubDocs/SF_Users/'\n",
    "login_path = '/Users/barbarawilsonsoto/GithubDocs/login/'\n",
    "\n",
    "loginInfo = json.load(open(login_path + 'login.json'))\n",
    "username = loginInfo['username']\n",
    "password = loginInfo['password']\n",
    "security_token = loginInfo['security_token']\n",
    "domain = 'login'\n",
    "\n",
    "session_id, instance = SalesforceLogin(username=username, password=password, security_token=security_token, domain=domain)\n",
    "sf = Salesforce(instance=instance, session_id=session_id)\n",
    "\n",
    "querySOQL = \"\"\"SELECT Id, Name, UserRole.Name, IsActive FROM User Where IsActive = True\"\"\"\n",
    "\n",
    "#save the query results\n",
    "response = sf.query(querySOQL)\n",
    "lstRecords = response.get('records')\n",
    "#when results are more than 200 they will be saves as next records\n",
    "nextRecordsUrl = response.get('nextRecordsUrl')\n",
    "\n",
    "#keep getting records until the response.get('done') returns as True\n",
    "while not response.get('done'):\n",
    "    #use query more to get the nextRecordsUrl\n",
    "    response = sf.query_more(nextRecordsUrl, identifier_is_url=True)\n",
    "    #use extend method to join all the records\n",
    "    lstRecords.extend(response.get('records'))\n",
    "    nextRecordsUrl = response.get('nextRecordsUrl')\n",
    "\n",
    "#pass th records to a pandas data frame\n",
    "df_records = pd.DataFrame(lstRecords)\n",
    "\n",
    "df_records.to_csv(path + 'SFDC_All_SF_Users.csv', index=False)\n"
   ]
  },
  {
   "cell_type": "code",
   "execution_count": null,
   "id": "79becd9d",
   "metadata": {},
   "outputs": [],
   "source": []
  }
 ],
 "metadata": {
  "kernelspec": {
   "display_name": "Python 3 (ipykernel)",
   "language": "python",
   "name": "python3"
  },
  "language_info": {
   "codemirror_mode": {
    "name": "ipython",
    "version": 3
   },
   "file_extension": ".py",
   "mimetype": "text/x-python",
   "name": "python",
   "nbconvert_exporter": "python",
   "pygments_lexer": "ipython3",
   "version": "3.9.12"
  }
 },
 "nbformat": 4,
 "nbformat_minor": 5
}
