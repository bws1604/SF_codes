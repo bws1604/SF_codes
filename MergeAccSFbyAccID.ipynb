{
 "cells": [
  {
   "source": [
    "#!/usr/bin/env python3\n",
    "# -*- coding: utf-8 -*-\n",
    "\"\"\"\n",
    "Created on Tue Sep 28 16:54:01 2021\n",
    "\n",
    "@author: localusername\n",
    "\"\"\"\n",
    "\n",
    "import numpy as np\n",
    "import pandas as pd\n",
    "from datetime import datetime\n",
    "import math\n",
    "\n",
    "path = '/Users/localusername/GithubDocs/Lightico2022/'\n",
    "mergeby = 'AccId'\n",
    "#get the conference list and SFDC master report\n",
    "confList = pd.read_csv(path + 'Id.csv')\n",
    "print('Conference List: ')\n",
    "print(confList)\n",
    "SFcontList = pd.read_csv(path + 'SFDC_AllAccounts2022_05_30_11_55_31.csv')\n",
    "print('SFDC List: ')\n",
    "print(SFcontList)\n",
    "\n",
    "#check column names\n",
    "print('Conference List Column Names: ')\n",
    "print(confList.columns)\n",
    "print('SFDC List Column Names: ')\n",
    "print(SFcontList.columns)\n",
    "\n",
    "#get emails from confList and see if they match the SFcontList and return Account Info\n",
    "merge_inner = pd.merge(confList, SFcontList,on='Id',how='inner')\n",
    "print('Merge Inner:')\n",
    "print(merge_inner)\n",
    "output = merge_inner.to_csv(path + mergeby + 'Merge_inner_output.csv')#list of matching contacts with SFDC\n",
    "\n",
    "non_match_contacts = confList[~confList.Id.isin(merge_inner.Id)]\n",
    "print('Merge Non MATCH:')\n",
    "print(non_match_contacts)\n",
    "non_match_output = non_match_contacts.to_csv(path + mergeby + 'Non_match_output.csv')\n",
    "\n"
   ]
  },
  {
   "cell_type": "code",
   "execution_count": null,
   "id": "e2e60a7e",
   "metadata": {},
   "outputs": [],
   "source": []
  }
 ],
 "metadata": {
  "kernelspec": {
   "display_name": "Python 3 (ipykernel)",
   "language": "python",
   "name": "python3"
  },
  "language_info": {
   "codemirror_mode": {
    "name": "ipython",
    "version": 3
   },
   "file_extension": ".py",
   "mimetype": "text/x-python",
   "name": "python",
   "nbconvert_exporter": "python",
   "pygments_lexer": "ipython3",
   "version": "3.9.12"
  }
 },
 "nbformat": 4,
 "nbformat_minor": 5
}
